{
 "cells": [
  {
   "cell_type": "markdown",
   "metadata": {},
   "source": [
    "## Load Required Libraries"
   ]
  },
  {
   "cell_type": "code",
   "execution_count": 1,
   "metadata": {},
   "outputs": [],
   "source": [
    "import warnings\n",
    "warnings.filterwarnings('ignore')\n",
    "\n",
    "import numpy as np\n",
    "import tensorflow as tf\n",
    "import matplotlib.pyplot as plt\n",
    "import itertools as it\n",
    "\n",
    "%matplotlib inline"
   ]
  },
  {
   "cell_type": "markdown",
   "metadata": {},
   "source": [
    "## Neurons as Logic Gates"
   ]
  },
  {
   "cell_type": "markdown",
   "metadata": {},
   "source": [
    "The basic, classic activation function that we apply to neurons is a  sigmoid function:\n",
    "\n",
    "$$\n",
    "\\sigma = \\frac{1}{1 + e^{-x}}\n",
    "$$\n",
    "\n",
    "$\\sigma$ ranges from (0, 1). When the input $x$ is negative, $\\sigma$ is close to 0. When $x$ is positive, $\\sigma$ is close to 1. At $x=0$, $\\sigma=0.5$"
   ]
  },
  {
   "cell_type": "code",
   "execution_count": 2,
   "metadata": {},
   "outputs": [],
   "source": [
    "def sigmoid(x):\n",
    "    \"\"\"Sigmoid function\"\"\"\n",
    "    return 1.0 / (1.0 + np.exp(-x))"
   ]
  },
  {
   "cell_type": "markdown",
   "metadata": {},
   "source": [
    "Plot the sigmoid function."
   ]
  },
  {
   "cell_type": "code",
   "execution_count": 3,
   "metadata": {},
   "outputs": [
    {
     "data": {
      "image/png": "[encoded data removed]",
      "text/plain": [
       "<Figure size 432x288 with 1 Axes>"
      ]
     },
     "metadata": {},
     "output_type": "display_data"
    }
   ],
   "source": [
    "# Plot The sigmoid function\n",
    "xs = np.linspace(-10, 10, num=100, dtype=np.float32)\n",
    "activation = sigmoid(xs)\n",
    "\n",
    "fig = plt.figure(figsize=(6,4))\n",
    "plt.plot(xs, activation)\n",
    "plt.plot(0,.5,'ro')\n",
    "\n",
    "plt.grid(True, which='both')\n",
    "plt.axhline(y=0, color='y')\n",
    "plt.axvline(x=0, color='y')\n",
    "plt.ylim([-0.1, 1.15]);"
   ]
  },
  {
   "cell_type": "markdown",
   "metadata": {},
   "source": [
    "## Example Logic Gates"
   ]
  },
  {
   "cell_type": "markdown",
   "metadata": {},
   "source": [
    "Some Utility Functions"
   ]
  },
  {
   "cell_type": "code",
   "execution_count": 4,
   "metadata": {},
   "outputs": [],
   "source": [
    "def logic_gate(w1, w2, b):\n",
    "    '''\n",
    "    logic_gate is a function which returns a function.\n",
    "    the returned function take two args and (hopefully)\n",
    "    acts like a logic gate (and/or/not/etc.).  its behavior\n",
    "    is determined by w1,w2,b.  a longer, better name would be\n",
    "    make_twoarg_logic_gate_function\n",
    "    '''\n",
    "    def the_gate(x1, x2):\n",
    "        return sigmoid(w1 * x1 + w2 * x2 + b)\n",
    "    return the_gate\n",
    "\n",
    "def test(gate):\n",
    "    'Helper function to test out our weight functions.'\n",
    "    for a, b in it.product(range(2), repeat=2):\n",
    "        print(\"{}, {}: {}\".format(a, b, np.round(gate(a, b))))"
   ]
  },
  {
   "cell_type": "code",
   "execution_count": 5,
   "metadata": {},
   "outputs": [
    {
     "name": "stdout",
     "output_type": "stream",
     "text": [
      "0, 0: 0.0\n",
      "0, 1: 1.0\n",
      "1, 0: 1.0\n",
      "1, 1: 1.0\n"
     ]
    }
   ],
   "source": [
    "or_gate = logic_gate(20, 20, -10)\n",
    "test(or_gate)"
   ]
  },
  {
   "cell_type": "code",
   "execution_count": 6,
   "metadata": {},
   "outputs": [
    {
     "name": "stdout",
     "output_type": "stream",
     "text": [
      "0, 0: 0.0\n",
      "0, 1: 0.0\n",
      "1, 0: 0.0\n",
      "1, 1: 1.0\n"
     ]
    }
   ],
   "source": [
    "and_gate = logic_gate(20,20,-30)\n",
    "test(and_gate)"
   ]
  },
  {
   "cell_type": "code",
   "execution_count": 7,
   "metadata": {},
   "outputs": [
    {
     "name": "stdout",
     "output_type": "stream",
     "text": [
      "0, 0: 1.0\n",
      "0, 1: 0.0\n",
      "1, 0: 0.0\n",
      "1, 1: 0.0\n"
     ]
    }
   ],
   "source": [
    "nor_gate = logic_gate(-20,-20,20)\n",
    "test(nor_gate)"
   ]
  },
  {
   "cell_type": "code",
   "execution_count": 8,
   "metadata": {},
   "outputs": [
    {
     "name": "stdout",
     "output_type": "stream",
     "text": [
      "0, 0: 1.0\n",
      "0, 1: 1.0\n",
      "1, 0: 1.0\n",
      "1, 1: 0.0\n"
     ]
    }
   ],
   "source": [
    "nand_gate = logic_gate(-20,-20,30)\n",
    "test(nand_gate)"
   ]
  },
  {
   "cell_type": "code",
   "execution_count": 9,
   "metadata": {},
   "outputs": [
    {
     "name": "stdout",
     "output_type": "stream",
     "text": [
      "0, 0: 0.0\n",
      "0, 1: 1.0\n",
      "1, 0: 1.0\n",
      "1, 1: 0.0\n"
     ]
    }
   ],
   "source": [
    "# xor cannot be modeled by a single gate\n",
    "def xor_gate(a, b):\n",
    "    c = or_gate(a, b)\n",
    "    d = nand_gate(a, b)\n",
    "    return and_gate(c, d)\n",
    "test(xor_gate)"
   ]
  },
  {
   "cell_type": "markdown",
   "metadata": {},
   "source": [
    "Chaining together neurons can compose more complex models."
   ]
  },
  {
   "cell_type": "markdown",
   "metadata": {},
   "source": [
    "## Learning a Logic Gate"
   ]
  },
  {
   "cell_type": "markdown",
   "metadata": {},
   "source": [
    "We can use TensorFlow to try and teach a model to learn the correct weights and bias by passing in our truth table as training data."
   ]
  },
  {
   "cell_type": "code",
   "execution_count": 10,
   "metadata": {},
   "outputs": [],
   "source": [
    "class TF_LogicGate:\n",
    "    def __init__(s):  \n",
    "        graph = tf.Graph()\n",
    "        with graph.as_default():\n",
    "            \n",
    "            with tf.name_scope('inputs'):\n",
    "                s.x1 = tf.placeholder(tf.float32, name='x1')\n",
    "                s.x2 = tf.placeholder(tf.float32, name='x2')\n",
    "                s.label = tf.placeholder(tf.float32, name='label')\n",
    "                s.learning_rate = tf.placeholder(tf.float32, name='learning_rate')\n",
    "                \n",
    "            with tf.name_scope('model'):\n",
    "                s.w1 = tf.Variable(tf.random_normal([]), name='w1')\n",
    "                s.w2 = tf.Variable(tf.random_normal([]), name='w2')\n",
    "                s.b = tf.Variable(0.0, dtype=tf.float32, name='b')\n",
    "                s.output = tf.nn.sigmoid(s.w1 * s.x1 + s.w2 * s.x2 + s.b)\n",
    "                \n",
    "            with tf.name_scope('loss'):\n",
    "                s.loss = tf.reduce_mean(tf.square(s.output - s.label), name='mse')\n",
    "                correct = tf.equal(tf.round(s.output), s.label)\n",
    "                s.accuracy = tf.reduce_mean(tf.cast(correct, tf.float32))\n",
    "                \n",
    "            with tf.name_scope('train'):\n",
    "                s.train = tf.train.GradientDescentOptimizer(s.learning_rate).minimize(s.loss)\n",
    "                \n",
    "            s.init = tf.global_variables_initializer()\n",
    "            \n",
    "        s.session = tf.Session(graph=graph)\n",
    "        s.session.run(s.init)\n",
    "        \n",
    "    def fit(s, train_dict):\n",
    "        loss, acc, _ = s.session.run([s.loss, s.accuracy, s.train], feed_dict=train_dict)\n",
    "        return loss, acc\n",
    "\n",
    "    def predict(s, test_dict):\n",
    "        return s.session.run([s.w1, s.w2, s.b, s.output], feed_dict=test_dict)"
   ]
  },
  {
   "cell_type": "code",
   "execution_count": 11,
   "metadata": {},
   "outputs": [],
   "source": [
    "# set up train dict with the results of an and table\n",
    "and_table = np.array([[0,0,0],\n",
    "                      [1,0,0],\n",
    "                      [0,1,0],\n",
    "                      [1,1,1]])\n",
    "\n",
    "logic_model = TF_LogicGate()\n",
    "\n",
    "train_dict={logic_model.x1:    and_table[:,0],\n",
    "            logic_model.x2:    and_table[:,1],\n",
    "            logic_model.label: and_table[:,2], \n",
    "            logic_model.learning_rate: 0.5}"
   ]
  },
  {
   "cell_type": "code",
   "execution_count": 12,
   "metadata": {},
   "outputs": [
    {
     "name": "stdout",
     "output_type": "stream",
     "text": [
      "training\n",
      "loss: 0.3586837649345398\taccuracy: 0.75\n",
      "loss: 0.25024935603141785\taccuracy: 0.75\n",
      "loss: 0.24990376830101013\taccuracy: 0.75\n",
      "loss: 0.24955244362354279\taccuracy: 0.75\n",
      "loss: 0.24527019262313843\taccuracy: 0.75\n",
      "loss: 0.01359378919005394\taccuracy: 1.0\n",
      "loss: 0.005986128933727741\taccuracy: 1.0\n",
      "loss: 0.0037496830336749554\taccuracy: 1.0\n",
      "loss: 0.0027070427313447\taccuracy: 1.0\n",
      "loss: 0.0021094896364957094\taccuracy: 1.0\n",
      "loss: 0.001724359579384327\taccuracy: 1.0\n"
     ]
    }
   ],
   "source": [
    "print(\"training\")\n",
    "for i in range(10000):\n",
    "    loss, acc = logic_model.fit(train_dict)\n",
    "    if i % 1000 == 0:\n",
    "        print('loss: {}\\taccuracy: {}'.format(loss, acc))\n",
    "print('loss: {}\\taccuracy: {}'.format(loss, acc))"
   ]
  },
  {
   "cell_type": "code",
   "execution_count": 13,
   "metadata": {},
   "outputs": [],
   "source": [
    "test_dict = {logic_model.x1: and_table[:,0], #[0.0, 1.0, 0.0, 1.0],\n",
    "             logic_model.x2: and_table[:,1]} # [0.0, 0.0, 1.0, 1.0]}"
   ]
  },
  {
   "cell_type": "code",
   "execution_count": 14,
   "metadata": {},
   "outputs": [
    {
     "name": "stdout",
     "output_type": "stream",
     "text": [
      "testing\n",
      "\n",
      "Learned weight for w1:\t 5.930612564086914\n",
      "Learned weight for w2:\t 5.930612564086914\n",
      "Learned weight for bias: -8.986828804016113\n",
      "\n"
     ]
    }
   ],
   "source": [
    "print(\"testing\")\n",
    "w1_val, w2_val, b_val, out = logic_model.predict(test_dict)\n",
    "print('Learned weight for w1:\\t {}'.format(w1_val))\n",
    "print('Learned weight for w2:\\t {}'.format(w2_val))\n",
    "print('Learned weight for bias: {}\\n'.format(b_val))"
   ]
  },
  {
   "cell_type": "code",
   "execution_count": 15,
   "metadata": {},
   "outputs": [
    {
     "name": "stdout",
     "output_type": "stream",
     "text": [
      "0, 0: 0.0\n",
      "0, 1: 0.0\n",
      "1, 0: 0.0\n",
      "1, 1: 1.0\n"
     ]
    }
   ],
   "source": [
    "idx = 0\n",
    "for i in [0, 1]:\n",
    "    for j in [0, 1]:\n",
    "        print('{}, {}: {}'.format(i, j, np.round(out[idx])))\n",
    "        idx += 1"
   ]
  },
  {
   "cell_type": "markdown",
   "metadata": {},
   "source": [
    "## Learning an XOR Gate"
   ]
  },
  {
   "cell_type": "markdown",
   "metadata": {},
   "source": [
    "If we compose a two stage model, we can learn the XOR gate."
   ]
  },
  {
   "cell_type": "code",
   "execution_count": 16,
   "metadata": {},
   "outputs": [],
   "source": [
    "class XOR_Graph:\n",
    "    def __init__(self):\n",
    "        # Create an empty Graph to place our operations in\n",
    "        xor_graph = tf.Graph()\n",
    "        with xor_graph.as_default():\n",
    "            # Placeholder inputs for our a, b, and label training data\n",
    "            self.x1 = tf.placeholder(tf.float32)\n",
    "            self.x2 = tf.placeholder(tf.float32)\n",
    "            self.label = tf.placeholder(tf.float32)\n",
    "\n",
    "            # A placeholder for our learning rate, so we can adjust it\n",
    "            self.learning_rate = tf.placeholder(tf.float32)\n",
    "\n",
    "            Var = tf.Variable; rn = tf.random_normal\n",
    "            self.weights = [[Var(rn([])), Var(rn([]))],\n",
    "                            [Var(rn([])), Var(rn([]))],\n",
    "                            [Var(rn([])), Var(rn([]))]]\n",
    "            self.biases = [Var(0.0, dtype=tf.float32),\n",
    "                           Var(0.0, dtype=tf.float32),\n",
    "                           Var(0.0, dtype=tf.float32)]\n",
    "            sig1 = tf.nn.sigmoid(self.x1 * self.weights[0][0] + \n",
    "                                 self.x2 * self.weights[0][1] + \n",
    "                                 self.biases[0])\n",
    "            sig2 = tf.nn.sigmoid(self.x1 * self.weights[1][0] + \n",
    "                                 self.x2 * self.weights[1][1] + \n",
    "                                 self.biases[1])\n",
    "            self.output = tf.nn.sigmoid(sig1 * self.weights[2][0] + \n",
    "                                        sig2 * self.weights[2][1] + \n",
    "                                        self.biases[2])\n",
    "\n",
    "            # We'll use the mean of squared errors as our loss function \n",
    "            self.loss = tf.reduce_mean(tf.square(self.output - self.label))\n",
    "            \n",
    "            # create a gradient descent training operation \n",
    "            # and an initialization operation\n",
    "            gdo = tf.train.GradientDescentOptimizer\n",
    "            self.train = gdo(self.learning_rate).minimize(self.loss)\n",
    "            \n",
    "            correct = tf.equal(tf.round(self.output), self.label)\n",
    "            self.accuracy = tf.reduce_mean(tf.cast(correct, tf.float32))\n",
    "        \n",
    "            init = tf.global_variables_initializer()\n",
    "        \n",
    "        self.sess = tf.Session(graph=xor_graph)\n",
    "        self.sess.run(init)        \n",
    "\n",
    "    def fit(self, train_dict):\n",
    "        loss, acc, _ = self.sess.run([self.loss, self.accuracy, self.train], \n",
    "                                     train_dict)\n",
    "        return loss, acc\n",
    "        \n",
    "    def predict(self, test_dict):\n",
    "        all_trained = (self.weights[0] + [self.biases[0]] +\n",
    "                       self.weights[1] + [self.biases[1]] +\n",
    "                       self.weights[2] + [self.biases[2]])\n",
    "        return self.sess.run(all_trained + [self.output], test_dict)"
   ]
  },
  {
   "cell_type": "code",
   "execution_count": 19,
   "metadata": {},
   "outputs": [
    {
     "name": "stdout",
     "output_type": "stream",
     "text": [
      "training\n",
      "loss: 0.29703134298324585\taccuracy: 0.5\n",
      "loss: 0.19086095690727234\taccuracy: 0.75\n",
      "loss: 0.06518189609050751\taccuracy: 1.0\n",
      "loss: 0.012577787972986698\taccuracy: 1.0\n",
      "loss: 0.006106953602284193\taccuracy: 1.0\n",
      "loss: 0.003922253847122192\taccuracy: 1.0\n",
      "loss: 0.0028577803168445826\taccuracy: 1.0\n",
      "loss: 0.0022355434484779835\taccuracy: 1.0\n",
      "loss: 0.001829994609579444\taccuracy: 1.0\n",
      "loss: 0.001545838313177228\taccuracy: 1.0\n",
      "loss: 0.0013363773468881845\taccuracy: 1.0\n",
      "testing\n",
      "[6.870407, 6.8782935, -3.057933, -4.8926725, -4.8940954, 7.3238125, 7.7410927, 7.9591722, -11.53266]\n",
      "results\n",
      "Learned weights/bias (L1): [ 6.870407   6.8782935 -3.057933 ]\n",
      "Learned weights/bias (L2): [-4.8926725 -4.8940954  7.3238125]\n",
      "Learned weights/bias (L3): [  7.7410927   7.9591722 -11.53266  ]\n",
      "Testing Table:\n",
      "[[0 0 0]\n",
      " [1 0 1]\n",
      " [0 1 1]\n",
      " [1 1 0]]\n",
      "Correct? True\n"
     ]
    }
   ],
   "source": [
    "xor_table = np.array([[0,0,0],\n",
    "                      [1,0,1],\n",
    "                      [0,1,1],\n",
    "                      [1,1,0]])\n",
    "\n",
    "logic_model = XOR_Graph()\n",
    "\n",
    "train_dict={logic_model.x1:    xor_table[:,0],\n",
    "            logic_model.x2:    xor_table[:,1],\n",
    "            logic_model.label: xor_table[:,2],\n",
    "            logic_model.learning_rate: 0.5}\n",
    "\n",
    "print(\"training\")\n",
    "for i in range(10000):\n",
    "    loss, acc = logic_model.fit(train_dict)\n",
    "    if i % 1000 == 0:\n",
    "        print('loss: {}\\taccuracy: {}'.format(loss, acc))\n",
    "print('loss: {}\\taccuracy: {}'.format(loss, acc))\n",
    "            \n",
    "print(\"testing\")\n",
    "test_dict = {logic_model.x1: xor_table[:,0], \n",
    "             logic_model.x2: xor_table[:,1]}\n",
    "results = logic_model.predict(test_dict)\n",
    "wb_lrn, predictions = results[:-1], results[-1]\n",
    "\n",
    "print(wb_lrn)\n",
    "wb_lrn = np.array(wb_lrn).reshape(3,3)\n",
    "\n",
    "# combine the predictions with the inputs and clean up the data\n",
    "# round it and convert to unsigned 8 bit ints\n",
    "out_table = np.column_stack((xor_table[:,[0,1]], \n",
    "                             predictions)).round().astype(np.uint8)\n",
    "\n",
    "print(\"results\")\n",
    "print('Learned weights/bias (L1):', wb_lrn[0])\n",
    "print('Learned weights/bias (L2):', wb_lrn[1])\n",
    "print('Learned weights/bias (L3):', wb_lrn[2])\n",
    "print('Testing Table:')\n",
    "print(out_table)\n",
    "print(\"Correct?\", np.allclose(xor_table, out_table))"
   ]
  },
  {
   "cell_type": "markdown",
   "metadata": {},
   "source": [
    "# An Example Neural Network"
   ]
  },
  {
   "cell_type": "markdown",
   "metadata": {},
   "source": [
    "So, now that we've worked with some primitive models, let's take a look at something a bit closer to what we'll work with moving forward:  an actual neural network.\n",
    "\n",
    "The following model accepts a 100 dimensional input, has a hidden layer depth of 300, and an output layer depth of 50. We use a sigmoid activation function for the hidden layer."
   ]
  },
  {
   "cell_type": "code",
   "execution_count": 18,
   "metadata": {},
   "outputs": [],
   "source": [
    "nn1_graph = tf.Graph()\n",
    "with nn1_graph.as_default():\n",
    "    x = tf.placeholder(tf.float32, shape=[None, 100])\n",
    "    y = tf.placeholder(tf.float32, shape=[None])\n",
    "    \n",
    "    with tf.name_scope('hidden1'):\n",
    "        w = tf.Variable(tf.truncated_normal([100, 300]), name='W')\n",
    "        b = tf.Variable(tf.zeros([300]), name='b')\n",
    "        z = tf.matmul(x, w) + b\n",
    "        a = tf.nn.sigmoid(z)\n",
    "    \n",
    "    with tf.name_scope('output'):\n",
    "        w = tf.Variable(tf.truncated_normal([300, 50]), name='W')\n",
    "        b = tf.Variable(tf.zeros([50]), name='b')\n",
    "        z = tf.matmul(a, w) + b\n",
    "        output = z\n",
    "    \n",
    "    with tf.name_scope('global_step'):\n",
    "        global_step = tf.Variable(0, trainable=False, name='global_step')\n",
    "        inc_step = tf.assign_add(global_step, 1, name='increment_step')\n",
    "    \n",
    "    with tf.name_scope('summaries'):\n",
    "        for var in tf.trainable_variables():\n",
    "            hist_summary = tf.summary.histogram(var.op.name, var)\n",
    "        summary_op = tf.summary.merge_all()\n",
    "    \n",
    "    init = tf.global_variables_initializer()"
   ]
  }
 ],
 "metadata": {
  "kernelspec": {
   "display_name": "Python 3",
   "language": "python",
   "name": "python3"
  },
  "language_info": {
   "codemirror_mode": {
    "name": "ipython",
    "version": 3
   },
   "file_extension": ".py",
   "mimetype": "text/x-python",
   "name": "python",
   "nbconvert_exporter": "python",
   "pygments_lexer": "ipython3",
   "version": "3.6.5"
  }
 },
 "nbformat": 4,
 "nbformat_minor": 2
}
