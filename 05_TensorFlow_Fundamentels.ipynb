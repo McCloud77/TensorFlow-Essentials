{
  "nbformat": 4,
  "nbformat_minor": 0,
  "metadata": {
    "colab": {
      "name": "05 TensorFlow Fundamentels.ipynb",
      "version": "0.3.2",
      "provenance": [],
      "collapsed_sections": []
    },
    "kernelspec": {
      "name": "python3",
      "display_name": "Python 3"
    },
    "accelerator": "GPU"
  },
  "cells": [
    {
      "metadata": {
        "id": "Sa9vhaWN-ibb",
        "colab_type": "text"
      },
      "cell_type": "markdown",
      "source": [
        "## Load Libraries"
      ]
    },
    {
      "metadata": {
        "id": "6455DBZ5-ibo",
        "colab_type": "code",
        "colab": {}
      },
      "cell_type": "code",
      "source": [
        "import warnings\n",
        "warnings.filterwarnings('ignore')\n",
        "import numpy as np\n",
        "import tensorflow as tf\n",
        "import matplotlib.pyplot as plt\n",
        "%matplotlib inline"
      ],
      "execution_count": 0,
      "outputs": []
    },
    {
      "metadata": {
        "id": "0PhHNV1f-icP",
        "colab_type": "text"
      },
      "cell_type": "markdown",
      "source": [
        "## Convolutions"
      ]
    },
    {
      "metadata": {
        "id": "ShMs5zQ7-icV",
        "colab_type": "text"
      },
      "cell_type": "markdown",
      "source": [
        "In order to give a NN model more spatial awareness, provide translation invariance, and reduce the amount of parameters in the network, we need to share weights in such a way that the *same* pixels located in *different* parts of a image output identical activation values. The technique we end up using is called a _convolution_.\n",
        "\n",
        "The defining feature of a convolution is the _kernel_ (also known as a _filter_), which is a grid-like set of weights which slides over regions of an input image. At each step, the kernel weights are multiplied with the corresponding pixel values underneath. These multiplied values are then summed to get the output value at that point."
      ]
    },
    {
      "metadata": {
        "id": "vzYP2UBX-ice",
        "colab_type": "text"
      },
      "cell_type": "markdown",
      "source": [
        "## Manual Convolutions with NumPy"
      ]
    },
    {
      "metadata": {
        "id": "Qxudis9N-icm",
        "colab_type": "code",
        "colab": {}
      },
      "cell_type": "code",
      "source": [
        "# Example input matrix\n",
        "a = np.array([[1, 2, 0, 3, 1],\n",
        "              [1, 0, 0, 2, 2],\n",
        "              [2, 1, 2, 1, 1],\n",
        "              [0, 0, 1, 0, 0],\n",
        "              [1, 2, 1, 1, 1]]).reshape(1,5,5,1).astype(np.float32)\n",
        "\n",
        "# Example kernel\n",
        "kernel = np.array([[-1,  1, 2],\n",
        "                   [ 1,  1, 0],\n",
        "                   [-1, -2, 0]]).reshape(3,3,1,1).astype(np.float32)"
      ],
      "execution_count": 0,
      "outputs": []
    },
    {
      "metadata": {
        "id": "ol3BWg3p-ic8",
        "colab_type": "text"
      },
      "cell_type": "markdown",
      "source": [
        "You can see that the values we set in our NumPy arrays match those in the visual above. A small implementation quirk is that we reshape the NumPy arrays.  The input matrix goes from `[5, 5]` to `[1, 5, 5, 1]`. The values, from left to right, represent the number of elements:\n",
        "  * in the batch (1), \n",
        "  * the height (5), \n",
        "  * the width (5), and \n",
        "  * the number of channels (1). \n",
        "  \n",
        "If our test matrix represented an RGB image, the shape would be `[1, 5, 5, 3]`. If there were 10 images in the batch, the shape would be `[10, 5, 5, 1]`"
      ]
    },
    {
      "metadata": {
        "id": "FZ4h1fw9-idC",
        "colab_type": "text"
      },
      "cell_type": "markdown",
      "source": [
        "The kernel goes from `[3, 3]` to `[3, 3, 1, 1]`. The values, from left to right, represent:\n",
        "  * the height of the kernel (3), \n",
        "  * the width of the kernel (3), \n",
        "  *  the number of channels in the _input_ (1), and \n",
        "  *  the number of channels in the output (1). \n",
        "  \n",
        "If the input represented an RGB image, we'd have the shape `[3, 3, 3, 1]`, and if we wanted our output to have 5 channels, the output shape would be `[3, 3, 1, 5]`.  Think of the last two components as being similar to a weight matrix on a fully connected layer, which has the shape `[prev_num_neurons, curr_num_neurons]`."
      ]
    },
    {
      "metadata": {
        "id": "4KGcAyHC-idK",
        "colab_type": "code",
        "colab": {
          "base_uri": "https://localhost:8080/",
          "height": 72
        },
        "outputId": "8bacbe3a-7415-43f6-d6fb-544fcb630086"
      },
      "cell_type": "code",
      "source": [
        "out = tf.Session().run(tf.nn.conv2d(input=a,\n",
        "                                    filter=kernel,\n",
        "                                    strides=[1, 1, 1, 1],\n",
        "                                    padding='VALID'))\n",
        "\n",
        "# np.squeeze() removes dimensions equal to `1` from a matrix/tensor\n",
        "# The result of tf.conv2d is four dimensional, so this cleans it up\n",
        "print(out.squeeze())"
      ],
      "execution_count": 3,
      "outputs": [
        {
          "output_type": "stream",
          "text": [
            "[[-2. -1.  3.]\n",
            " [ 2.  5.  8.]\n",
            " [-2.  0. -1.]]\n"
          ],
          "name": "stdout"
        }
      ]
    },
    {
      "metadata": {
        "id": "2GTazUm8-idz",
        "colab_type": "text"
      },
      "cell_type": "markdown",
      "source": [
        "The `tf.nn.conv2d()` Operation expects four main arguments: `input`, `filter`, `strides`, and `padding`:\n",
        "\n",
        "* `input` is the input Tensor, in this case our `[1, 5, 5, 1]` test data.\n",
        "* `filter` is the kernel. Typically, this would be a `tf.Variable`, but in this demo it's just our `[3,3,1,1]` kernel."
      ]
    },
    {
      "metadata": {
        "id": "l-71-Hnz-ieQ",
        "colab_type": "text"
      },
      "cell_type": "markdown",
      "source": [
        "##### **Stride**\n",
        "\n",
        "\"Stride\" refers to the number of squares we move our kernel for each step (both vertically and horizontally).\n",
        "\n",
        "If stride equals 2, our output `Tensor` is 2x2 instead of 3x3. This is one way to reduce the spatial dimensions of a network."
      ]
    },
    {
      "metadata": {
        "id": "Wka_aOoJ-ieY",
        "colab_type": "code",
        "colab": {
          "base_uri": "https://localhost:8080/",
          "height": 54
        },
        "outputId": "e687d401-9d47-4cb4-f952-5d1a4f5e7b49"
      },
      "cell_type": "code",
      "source": [
        "out = tf.Session().run(tf.nn.conv2d(input=a,\n",
        "                                    filter=kernel,\n",
        "                                    strides=[1, 2, 2, 1],\n",
        "                                    padding='VALID'))\n",
        "print(out.squeeze())"
      ],
      "execution_count": 4,
      "outputs": [
        {
          "output_type": "stream",
          "text": [
            "[[-2.  3.]\n",
            " [-2. -1.]]\n"
          ],
          "name": "stdout"
        }
      ]
    },
    {
      "metadata": {
        "id": "qWlLWccP-ifE",
        "colab_type": "text"
      },
      "cell_type": "markdown",
      "source": [
        "##### **Padding**\n",
        "\n",
        "In the example above, we start with a `5x5` Tensor, and end up with a `3x3` Tensor as output. It is often the case that we want to _maintain_ the width and height of our input. We can achieve this by adding zeros around our image or *padding* the image. By adding a ring of one or more zeros to the outside of our input and letting our kernel \"overflow\" on the sides, we can ensure that the output dimensions match the input dimensions.\n",
        "\n",
        "We can control padding in TensorFlow by using the `padding` parameter. `padding` takes a string which selects between two options:\n",
        "\n",
        "* `'VALID'` is what we used above - no zero padding. The idea is that we're only using \"real\" or \"valid\" input data to get outputs. You could also think of it as the kernel not going \"out of bounds\", thus staying \"valid\".\n",
        "* `'SAME'` uses zero-padding to keep the output dimensions equal to that of the input (assuming horizontal and vertical stride is set to 1). This one is more self-explanatory: we're keeping the dimensions the \"same\"."
      ]
    },
    {
      "metadata": {
        "id": "tf5SxNIq-ifJ",
        "colab_type": "code",
        "colab": {
          "base_uri": "https://localhost:8080/",
          "height": 109
        },
        "outputId": "486221cb-e055-487d-fdf3-8d32a6eb82bb"
      },
      "cell_type": "code",
      "source": [
        "out = tf.Session().run(tf.nn.conv2d(input=a,\n",
        "                                    filter=kernel,\n",
        "                                    strides=[1, 1, 1, 1],\n",
        "                                    padding='SAME'))\n",
        "print(out.squeeze())"
      ],
      "execution_count": 5,
      "outputs": [
        {
          "output_type": "stream",
          "text": [
            "[[-1.  2.  2. -1. -2.]\n",
            " [ 2. -2. -1.  3. -1.]\n",
            " [ 3.  2.  5.  8.  2.]\n",
            " [ 2. -2.  0. -1. -3.]\n",
            " [ 1.  5.  4.  1.  2.]]\n"
          ],
          "name": "stdout"
        }
      ]
    },
    {
      "metadata": {
        "id": "REZMst7P-ig_",
        "colab_type": "text"
      },
      "cell_type": "markdown",
      "source": [
        "##### **Adding a Bias**\n",
        "\n",
        "We will also add in a bias term for convolutions the same way we would a fully-connected layer. Each layer of the filter will have a constant number that is added along with the rest of the kernel dot product. We create a `Variable` vector with the same depth as the output `Tensor` (the last number in the shape of the kernel). Then, we use `tf.nn.bias_add()` to add the value the output of our convolution.\n",
        "\n",
        "```\n",
        "conv = tf.nn.conv2d(input, kernel, ...)\n",
        "bias = tf.Variable(tf.constant(0.1, shape=[depth]))\n",
        "total = tf.nn.bias(conv, bias)\n",
        "```\n",
        "\n",
        "For convolutions, the bias is usually initialized to some small positive value (as opposed to zero). We do this because the general go-to activation function for CNNs is ReLU, which can \"die\" if they never get positive inputs."
      ]
    },
    {
      "metadata": {
        "id": "SY78WsvO-ihK",
        "colab_type": "text"
      },
      "cell_type": "markdown",
      "source": [
        "##### **Max Pooling**"
      ]
    },
    {
      "metadata": {
        "id": "hnOBOz6u-ihR",
        "colab_type": "code",
        "colab": {
          "base_uri": "https://localhost:8080/",
          "height": 54
        },
        "outputId": "468b13ed-a276-44ee-e061-837b9d053ba7"
      },
      "cell_type": "code",
      "source": [
        "# Setup our input array\n",
        "pool_me = np.array([[ 2,  1,  0, -1],\n",
        "                    [-3,  8,  2,  5],\n",
        "                    [ 1, -1,  3,  4],\n",
        "                    [ 0,  1,  1, -2]]).reshape(1,4,4,1).astype(np.float32)\n",
        "\n",
        "out = tf.Session().run(tf.nn.max_pool(value=pool_me,\n",
        "                                      ksize=[1, 2, 2, 1],\n",
        "                                      strides=[1, 2, 2, 1],\n",
        "                                      padding='VALID'))\n",
        "print(out.squeeze())"
      ],
      "execution_count": 6,
      "outputs": [
        {
          "output_type": "stream",
          "text": [
            "[[8. 5.]\n",
            " [1. 4.]]\n"
          ],
          "name": "stdout"
        }
      ]
    },
    {
      "metadata": {
        "id": "eRMf0Iai-iiZ",
        "colab_type": "text"
      },
      "cell_type": "markdown",
      "source": [
        "##### **Average Pooling**"
      ]
    },
    {
      "metadata": {
        "id": "XPEsS3K6-iif",
        "colab_type": "code",
        "colab": {
          "base_uri": "https://localhost:8080/",
          "height": 54
        },
        "outputId": "71d2d6b2-9940-4c74-cfed-cc36b017b02a"
      },
      "cell_type": "code",
      "source": [
        "out = tf.Session().run(tf.nn.avg_pool(value=pool_me,\n",
        "                                      ksize=[1, 2, 2, 1],\n",
        "                                      strides=[1, 2, 2, 1],\n",
        "                                      padding='VALID'))\n",
        "print(out.squeeze())"
      ],
      "execution_count": 7,
      "outputs": [
        {
          "output_type": "stream",
          "text": [
            "[[2.   1.5 ]\n",
            " [0.25 1.5 ]]\n"
          ],
          "name": "stdout"
        }
      ]
    },
    {
      "metadata": {
        "id": "yApBzTdp-ijR",
        "colab_type": "text"
      },
      "cell_type": "markdown",
      "source": [
        "# Implementing LeNet"
      ]
    },
    {
      "metadata": {
        "id": "eybJKuYI-ijU",
        "colab_type": "text"
      },
      "cell_type": "markdown",
      "source": [
        "http://yann.lecun.com/exdb/lenet/ "
      ]
    },
    {
      "metadata": {
        "id": "XOAkQVqS-ijX",
        "colab_type": "text"
      },
      "cell_type": "markdown",
      "source": [
        "Some helper functions:"
      ]
    },
    {
      "metadata": {
        "id": "w7iiBN8a-ijd",
        "colab_type": "code",
        "colab": {}
      },
      "cell_type": "code",
      "source": [
        "def shuffle(*args):\n",
        "    \"Shuffles list of NumPy arrays in unison\"\n",
        "    state = np.random.get_state()\n",
        "    for array in args:\n",
        "        np.random.set_state(state)\n",
        "        np.random.shuffle(array)\n",
        "\n",
        "def grouper(iter_, n):\n",
        "    \"\"\"Collect data into fixed-length chunks or blocks\n",
        "     grouper('ABCDEFG', 3, 'x') --> ABC DEF Gxx\n",
        "     from python itertools docs\"\"\"\n",
        "    args = [iter(iter_)] * n\n",
        "    return zip(*args)\n",
        "\n",
        "def batches(data, labels, batch_size, randomize=True):\n",
        "    if len(data) != len(labels):\n",
        "        raise ValueError('Image data and label data must be same size')\n",
        "    if batch_size > len(data):\n",
        "        raise ValueError('Batch size cannot be larger than size of datasets')\n",
        "    if randomize:\n",
        "        shuffle(data, labels)\n",
        "    for res in zip(grouper(data, batch_size),\n",
        "                   grouper(labels, batch_size)):\n",
        "        yield res"
      ],
      "execution_count": 0,
      "outputs": []
    },
    {
      "metadata": {
        "id": "rho-rWUZ-ijp",
        "colab_type": "code",
        "colab": {}
      },
      "cell_type": "code",
      "source": [
        "def flatten(incoming, name=None):\n",
        "    flat_shape = [-1, np.prod(incoming.shape[1:]).value]\n",
        "    return tf.reshape(incoming, flat_shape)"
      ],
      "execution_count": 0,
      "outputs": []
    },
    {
      "metadata": {
        "id": "v8aPJmhF-iki",
        "colab_type": "text"
      },
      "cell_type": "markdown",
      "source": [
        "## Fully Connected Layers"
      ]
    },
    {
      "metadata": {
        "id": "Kg9biCqJ-iko",
        "colab_type": "code",
        "colab": {}
      },
      "cell_type": "code",
      "source": [
        "def fully_connected_layer(incoming_layer, num_nodes,\n",
        "                          w_stddev=None, b_val=None,\n",
        "                          activation_fn=None,\n",
        "                          keep_prob=None,\n",
        "                          name=None):\n",
        "    ' fc layer with few defaults and default xavier init for w '\n",
        "    incoming_layer = tf.convert_to_tensor(incoming_layer)\n",
        "    prev_num_nodes = incoming_layer.shape.dims[-1].value\n",
        "\n",
        "    if w_stddev is None:\n",
        "        w_stddev = tf.sqrt(2.0 / prev_num_nodes)\n",
        "    if b_val is None:\n",
        "        b_val = 0.0\n",
        "\n",
        "    with tf.name_scope(name, 'fully_connected'):\n",
        "        tn = tf.truncated_normal([prev_num_nodes, num_nodes], stddev=w_stddev)\n",
        "        W = tf.Variable(tn, name='W')\n",
        "        const = tf.constant(b_val, shape=[num_nodes])\n",
        "        b = tf.Variable(const, name='bias')\n",
        "\n",
        "        z = tf.matmul(incoming_layer, W) + b\n",
        "\n",
        "        a = activation_fn(z) if activation_fn is not None else z\n",
        "        final_a = a if keep_prob is None else tf.nn.dropout(a, keep_prob)\n",
        "\n",
        "        return final_a"
      ],
      "execution_count": 0,
      "outputs": []
    },
    {
      "metadata": {
        "id": "EKRXj9kyVKEB",
        "colab_type": "code",
        "colab": {}
      },
      "cell_type": "code",
      "source": [
        "def fully_connected_sigmoid_layer(incoming_layer, num_nodes,\n",
        "                                  w_stddev=0.5, b_val=0.0,\n",
        "                                  keep_prob=None, name=None):\n",
        "    ' pass through for fully_connected_layer with simple sigmoid defaults '\n",
        "    return fully_connected_layer(incoming_layer, num_nodes,\n",
        "                                 w_stddev = w_stddev, b_val=b_val,\n",
        "                                 activation_fn = tf.nn.sigmoid,\n",
        "                                 keep_prob=keep_prob,\n",
        "                                 name=name)"
      ],
      "execution_count": 0,
      "outputs": []
    },
    {
      "metadata": {
        "id": "CQ8EXOQl-il0",
        "colab_type": "code",
        "colab": {}
      },
      "cell_type": "code",
      "source": [
        "def fully_connected_relu_layer(incoming_layer, num_nodes,\n",
        "                               w_stddev = 0.01, b_val=0.1,\n",
        "                               keep_prob=None, name=None):\n",
        "    ' pass through for fully_connected_layer with simple relu defaults '\n",
        "    return fully_connected_layer(incoming_layer, num_nodes,\n",
        "                                 w_stddev = w_stddev, b_val=b_val,\n",
        "                                 activation_fn = tf.nn.relu,\n",
        "                                 keep_prob=keep_prob,\n",
        "                                 name=name)"
      ],
      "execution_count": 0,
      "outputs": []
    },
    {
      "metadata": {
        "id": "imXoynPUFRxR",
        "colab_type": "code",
        "colab": {}
      },
      "cell_type": "code",
      "source": [
        "def fully_connected_xavier_relu_layer(incoming_layer, num_nodes,\n",
        "                                      b_val=0.01,\n",
        "                                      keep_prob=None, name=None):\n",
        "    ' pass through for fully_connected_layer with xavier init '\n",
        "    incoming_layer = tf.convert_to_tensor(incoming_layer)\n",
        "    prev_num_nodes = incoming_layer.shape.dims[-1].value\n",
        "    \n",
        "    w_stddev = np.sqrt(2.0 / prev_num_nodes)\n",
        "\n",
        "    return fully_connected_layer(incoming_layer, num_nodes,\n",
        "                                 w_stddev = w_stddev, b_val=b_val,\n",
        "                                 activation_fn = tf.nn.relu,\n",
        "                                 keep_prob=keep_prob,\n",
        "                                 name=name)"
      ],
      "execution_count": 0,
      "outputs": []
    },
    {
      "metadata": {
        "id": "sVczpPIu-imU",
        "colab_type": "code",
        "colab": {}
      },
      "cell_type": "code",
      "source": [
        "def show_image(img):\n",
        "    imgplot = plt.imshow(np.squeeze(img), cmap='Greys_r')\n",
        "\n",
        "def test_and_show_images(model, test_dict, data, labels):\n",
        "    correctness, curr_preds = model.predict(test_dict)\n",
        "    \n",
        "    fig, axes = plt.subplots(nrows=(len(data) // 3) + 1, ncols=3, figsize=(9,len(data)*1.5))\n",
        "    axes = axes.flat\n",
        "    for d, lbl, c, p, ax in zip(data, labels, correctness, curr_preds, axes):\n",
        "        ax.imshow(np.squeeze(d), cmap='Greys_r') # FIXME: is cmap needed?\n",
        "        ax.set_title(\"Predicted: {}\\nCorrect: {}\".format(p, bool(c)))\n",
        "        ax.axis('off')\n",
        "    for ax in axes: ax.set_visible(False)"
      ],
      "execution_count": 0,
      "outputs": []
    },
    {
      "metadata": {
        "id": "QTabHuZD-ims",
        "colab_type": "text"
      },
      "cell_type": "markdown",
      "source": [
        "Load data (stored as numpy arrays)."
      ]
    },
    {
      "metadata": {
        "id": "EEU6R1hT_pfY",
        "colab_type": "code",
        "colab": {
          "base_uri": "https://localhost:8080/",
          "height": 35
        },
        "outputId": "84984780-5edb-4930-e893-2a24beff4b0d"
      },
      "cell_type": "code",
      "source": [
        "from google.colab import drive\n",
        "drive.mount('/gdrive') # will ask for authorization"
      ],
      "execution_count": 17,
      "outputs": [
        {
          "output_type": "stream",
          "text": [
            "Mounted at /gdrive\n"
          ],
          "name": "stdout"
        }
      ]
    },
    {
      "metadata": {
        "id": "90tqh_68-imv",
        "colab_type": "code",
        "colab": {}
      },
      "cell_type": "code",
      "source": [
        "mnist_numpy_paths = {'train_data'  : '/gdrive/My Drive/ML Data/MNIST/mnist-train-images.npy',\n",
        "                     'train_labels': '/gdrive/My Drive/ML Data/MNIST/mnist-train-labels.npy',\n",
        "                     'test_data'   : '/gdrive/My Drive/ML Data/MNIST/mnist-test-images.npy',\n",
        "                     'test_labels' : '/gdrive/My Drive/ML Data/MNIST/mnist-test-labels.npy'}\n",
        "\n",
        "train_data = np.load(mnist_numpy_paths['train_data'])\n",
        "train_labels = np.load(mnist_numpy_paths['train_labels'])\n",
        "test_data = np.load(mnist_numpy_paths['test_data'])\n",
        "test_labels = np.load(mnist_numpy_paths['test_labels'])"
      ],
      "execution_count": 0,
      "outputs": []
    },
    {
      "metadata": {
        "id": "fbxnDBbD-im8",
        "colab_type": "code",
        "colab": {
          "base_uri": "https://localhost:8080/",
          "height": 54
        },
        "outputId": "4ce5adda-c3ae-43d0-96ed-77deb2440d6d"
      },
      "cell_type": "code",
      "source": [
        "print(train_data.shape,\n",
        "      train_data[0].shape, sep='\\n')"
      ],
      "execution_count": 19,
      "outputs": [
        {
          "output_type": "stream",
          "text": [
            "(60000, 28, 28, 1)\n",
            "(28, 28, 1)\n"
          ],
          "name": "stdout"
        }
      ]
    },
    {
      "metadata": {
        "id": "Yj-MWdlQVNzi",
        "colab_type": "code",
        "colab": {}
      },
      "cell_type": "code",
      "source": [
        "img_height, img_width, img_channels = train_data[0].shape"
      ],
      "execution_count": 0,
      "outputs": []
    },
    {
      "metadata": {
        "id": "AzE4yYOC-ip-",
        "colab_type": "code",
        "colab": {
          "base_uri": "https://localhost:8080/",
          "height": 265
        },
        "outputId": "7d050aed-17de-4fa7-95b1-d4aff25a24ba"
      },
      "cell_type": "code",
      "source": [
        "pick_me = np.random.randint(len(test_data))\n",
        "show_image(test_data[pick_me])"
      ],
      "execution_count": 21,
      "outputs": [
        {
          "output_type": "display_data",
          "data": {
            "image/png": "[encoded data removed]",
            "text/plain": [
              "<matplotlib.figure.Figure at 0x7fa6b61936a0>"
            ]
          },
          "metadata": {
            "tags": []
          }
        }
      ]
    },
    {
      "metadata": {
        "id": "Atj8j3rk-irt",
        "colab_type": "text"
      },
      "cell_type": "markdown",
      "source": [
        "## Convolution and Pooling Layers"
      ]
    },
    {
      "metadata": {
        "id": "YU_v3zCd-irv",
        "colab_type": "code",
        "colab": {}
      },
      "cell_type": "code",
      "source": [
        "def conv_layer(incoming, num_kernels, kernel_sz, \n",
        "               strides=[1, 1, 1, 1], padding='SAME',\n",
        "               bval=0.01, \n",
        "               activation_fn=tf.nn.relu, \n",
        "               name=None):\n",
        "    prev_outshape = incoming.shape.dims[-1].value\n",
        "    kshape = kernel_sz + [prev_outshape, num_kernels]\n",
        "\n",
        "    fan_in = np.prod(incoming.shape[1:]).value\n",
        "    xavier_stddev = np.sqrt(2.0 / fan_in)\n",
        "    \n",
        "    with tf.variable_scope(name, 'conv_layer'):\n",
        "        w = tf.Variable(tf.truncated_normal(kshape, stddev=xavier_stddev), name='kernel')\n",
        "        b = tf.Variable(tf.constant(bval, shape=[num_kernels]), name='bias')\n",
        "        conv = tf.nn.conv2d(incoming, w, strides, padding, name='conv')\n",
        "        z = tf.nn.bias_add(conv, b)\n",
        "        return z if activation_fn is None else activation_fn(z)"
      ],
      "execution_count": 0,
      "outputs": []
    },
    {
      "metadata": {
        "id": "H7mSAwWn-ir5",
        "colab_type": "code",
        "colab": {}
      },
      "cell_type": "code",
      "source": [
        "def pool_layer(incoming, ksize, strides=None, padding='VALID',\n",
        "               pool_fn=tf.nn.max_pool, name=None):\n",
        "    'create a pooling layer:  we auto-add the leading/trailing 1s'\n",
        "    ksize = [1] + ksize + [1]\n",
        "    strides = strides if strides is not None else ksize\n",
        "    with tf.variable_scope(name, 'pool_layer'):\n",
        "        return pool_fn(incoming, ksize, strides, padding)"
      ],
      "execution_count": 0,
      "outputs": []
    },
    {
      "metadata": {
        "id": "XksEdT8HlBVY",
        "colab_type": "code",
        "colab": {}
      },
      "cell_type": "code",
      "source": [
        "def dropout_layer(incoming, keep_prob=None, dropout_fn=tf.nn.dropout, name=None):\n",
        "  keep_prob = keep_prob if keep_prob is not None else 1.0\n",
        "  with tf.variable_scope(name, 'dropout_layer'):\n",
        "    return dropout_fn(incoming, keep_prob)"
      ],
      "execution_count": 0,
      "outputs": []
    },
    {
      "metadata": {
        "id": "XSf5AD8P-isA",
        "colab_type": "text"
      },
      "cell_type": "markdown",
      "source": [
        "## LeNet Sub-Networks"
      ]
    },
    {
      "metadata": {
        "id": "YiV7Urx9GDEl",
        "colab_type": "text"
      },
      "cell_type": "markdown",
      "source": [
        "As described in the original paper, LeNet has the following layers:\n",
        "\n",
        "1. Convolution layer&nbsp;&nbsp;&nbsp;&nbsp;&nbsp;&nbsp;&nbsp;&nbsp;&nbsp;&nbsp;&nbsp;&nbsp;(5x5, stride = 1, padding = 2 ('same'))\n",
        "2. Max Pooling layer&nbsp;&nbsp;&nbsp;&nbsp;&nbsp;&nbsp;&nbsp;&nbsp;&nbsp;&nbsp;&nbsp;&nbsp;(2x2, stride = 2)\n",
        "3. Convolution layer&nbsp;&nbsp;&nbsp;&nbsp;&nbsp;&nbsp;&nbsp;&nbsp;&nbsp;&nbsp;&nbsp;&nbsp;(5x5, stride = 1, padding = 2 ('same'))\n",
        "4. Max Pooling layer&nbsp;&nbsp;&nbsp;&nbsp;&nbsp;&nbsp;&nbsp;&nbsp;&nbsp;&nbsp;&nbsp;&nbsp;(2x2, stride = 2)\n",
        "5. Fully Connected layer&nbsp;&nbsp;&nbsp;&nbsp;&nbsp;&nbsp;(depth = 120, activation = ReLu)\n",
        "6. Fully Connected layer&nbsp;&nbsp;&nbsp;&nbsp;&nbsp;&nbsp;(depth =  84, activation = ReLu)\n",
        "7. Fully Connected layer&nbsp;&nbsp;&nbsp;&nbsp;&nbsp;&nbsp;(depth =  10, activation = ReLu)"
      ]
    },
    {
      "metadata": {
        "id": "XsGcK6L9-isE",
        "colab_type": "text"
      },
      "cell_type": "markdown",
      "source": [
        "Define some different architectures."
      ]
    },
    {
      "metadata": {
        "id": "c2HY1QRG-isG",
        "colab_type": "code",
        "colab": {}
      },
      "cell_type": "code",
      "source": [
        "def not_lenet(images):\n",
        "    with tf.name_scope('small_model'):\n",
        "        conv_1 = conv_layer(images, 6, [5, 5])\n",
        "        pool_1 = pool_layer(conv_1, [2, 2])\n",
        "        conv_2 = conv_layer(pool_1, 16, [5, 5])\n",
        "        pool_2 = pool_layer(conv_2, [2, 2])\n",
        "        \n",
        "        flat = flatten(pool_2)\n",
        "        \n",
        "        fc_layer = fully_connected_sigmoid_layer\n",
        "        fc_1 = fc_layer(flat, 120)\n",
        "        fc_2 = fc_layer(fc_1,  84)\n",
        "        fc_3 = fully_connected_layer(fc_2,  10, w_stddev = 0.5, activation_fn=None)\n",
        "    \n",
        "    return fc_3 "
      ],
      "execution_count": 0,
      "outputs": []
    },
    {
      "metadata": {
        "id": "BfmMRluBFaT5",
        "colab_type": "code",
        "colab": {}
      },
      "cell_type": "code",
      "source": [
        "def lenet_small(images):\n",
        "    with tf.name_scope('small_lenet_model'):    \n",
        "        conv_1 = conv_layer(images, 6, [5, 5])\n",
        "        pool_1 = pool_layer(conv_1, [2, 2])\n",
        "        conv_2 = conv_layer(pool_1, 16, [5, 5])\n",
        "        pool_2 = pool_layer(conv_2, [2, 2])\n",
        "\n",
        "        flat = flatten(pool_2)\n",
        "\n",
        "        fc_layer = fully_connected_xavier_relu_layer\n",
        "        fc_1   = fc_layer(flat, 120)\n",
        "        fc_2   = fc_layer(fc_1, 84)\n",
        "        fc_3   = fc_layer(fc_2, 10)\n",
        "        fc_4   = fully_connected_layer(fc_3, 10, activation_fn=None)\n",
        "    \n",
        "    return fc_4"
      ],
      "execution_count": 0,
      "outputs": []
    },
    {
      "metadata": {
        "id": "ruTUOk1qFaqE",
        "colab_type": "code",
        "colab": {}
      },
      "cell_type": "code",
      "source": [
        "def lenet_big(images):\n",
        "    with tf.name_scope('big_lenet_model'):    \n",
        "        conv_1 = conv_layer(images, 32, [5, 5])\n",
        "        pool_1 = pool_layer(conv_1, [2, 2])\n",
        "        conv_2 = conv_layer(pool_1, 64, [5, 5])\n",
        "        pool_2 = pool_layer(conv_2, [2, 2])\n",
        "\n",
        "        flat = flatten(pool_2)\n",
        "\n",
        "        fc_layer = fully_connected_xavier_relu_layer\n",
        "        fc_1   = fc_layer(flat, 400)\n",
        "        fc_2   = fc_layer(fc_1, 200)\n",
        "        fc_3   = fc_layer(fc_2, 200)\n",
        "        fc_4   = fully_connected_layer(fc_3, 10, activation_fn=None)\n",
        "    \n",
        "    return fc_4"
      ],
      "execution_count": 0,
      "outputs": []
    },
    {
      "metadata": {
        "id": "Q5ahsQMN-isY",
        "colab_type": "code",
        "colab": {}
      },
      "cell_type": "code",
      "source": [
        "class MNIST_Model(object):\n",
        "    def __init__(s):  # non-standard, for abbreviation\n",
        "        graph = tf.Graph()\n",
        "        \n",
        "        with graph.as_default():\n",
        "            \n",
        "            with tf.name_scope('inputs'):\n",
        "                s.x = tf.placeholder(tf.uint8, shape=[None, 28, 28, 1], name=\"x\")\n",
        "                s.y = tf.placeholder(tf.int32, shape=[None])\n",
        "\n",
        "            with tf.name_scope('hyperparams'):\n",
        "                s.learning_rate = tf.placeholder(tf.float32, [], 'learning_rate')\n",
        "            \n",
        "            with tf.name_scope('preprocess'):\n",
        "                s.x_cast = tf.cast(s.x, tf.float32)\n",
        "                s.one_hot_labels = tf.one_hot(s.y, 10)\n",
        "\n",
        "            with tf.name_scope('model'):\n",
        "                s.out = lenet_big(s.x_cast)\n",
        "            \n",
        "            with tf.name_scope('loss'):\n",
        "                smce = tf.nn.softmax_cross_entropy_with_logits_v2\n",
        "                s.loss = tf.reduce_mean(smce(logits=s.out, labels=s.one_hot_labels))\n",
        "                \n",
        "            with tf.name_scope('global_step'):\n",
        "                global_step = tf.Variable(0, trainable=False, name='global_step')\n",
        "                s.inc_step = tf.assign_add(global_step, 1, name='inc_step')\n",
        "            \n",
        "            with tf.name_scope('train'):\n",
        "                decayed_rate = tf.train.exponential_decay(s.learning_rate,\n",
        "                                                          global_step,\n",
        "                                                          600,\n",
        "                                                          0.998,\n",
        "                                                          True)\n",
        "                momopt = tf.train.MomentumOptimizer\n",
        "                s.train = momopt(decayed_rate, 0.9).minimize(s.loss)\n",
        "\n",
        "            with tf.name_scope('prediction'):\n",
        "                s.softmax = tf.nn.softmax(s.out, name=\"softmax\")\n",
        "                s.prediction = tf.cast(tf.argmax(s.softmax, 1), tf.int32)\n",
        "                s.pred_correct = tf.equal(s.y, s.prediction)\n",
        "                s.pred_accuracy = tf.reduce_mean(tf.cast(s.pred_correct, tf.float32)) \n",
        "                \n",
        "            s.init = tf.global_variables_initializer()\n",
        "            \n",
        "        s.session = tf.Session(graph=graph)\n",
        "        s.session.run(s.init)\n",
        "    \n",
        "    def fit(s, train_dict):\n",
        "        tr_loss, step, tr_acc, _ = s.session.run([s.loss, s.inc_step, s.pred_accuracy, \n",
        "                                                  s.train], feed_dict=train_dict)\n",
        "        return tr_loss, step, tr_acc\n",
        "    \n",
        "    def predict(s, test_dict):\n",
        "        ct_correct, preds = s.session.run([s.pred_correct, s.prediction], \n",
        "                                          feed_dict=test_dict)\n",
        "        return ct_correct, preds"
      ],
      "execution_count": 0,
      "outputs": []
    },
    {
      "metadata": {
        "id": "87vK38bd-its",
        "colab_type": "code",
        "colab": {
          "base_uri": "https://localhost:8080/",
          "height": 293
        },
        "outputId": "c280d57a-c60c-4c51-b34c-221eb5798204"
      },
      "cell_type": "code",
      "source": [
        "mm = MNIST_Model()\n",
        "for epoch in range(15):\n",
        "    for batch_data, batch_labels in batches(train_data, train_labels, 100):\n",
        "        train_dict = {mm.x : batch_data, \n",
        "                      mm.y : batch_labels,\n",
        "                      mm.learning_rate : 0.001}\n",
        "        tr_loss, step, tr_acc = mm.fit(train_dict)\n",
        "    info_update = \"Epoch: {:2d} Step: {:5d} Loss: {:8.2f} Acc: {:5.2f}\"\n",
        "    print(info_update.format(epoch, step, tr_loss, tr_acc))"
      ],
      "execution_count": 30,
      "outputs": [
        {
          "output_type": "stream",
          "text": [
            "Epoch:  0 Step:   600 Loss:     0.02 Acc:  0.99\n",
            "Epoch:  1 Step:  1200 Loss:     0.06 Acc:  0.98\n",
            "Epoch:  2 Step:  1800 Loss:     0.02 Acc:  0.99\n",
            "Epoch:  3 Step:  2400 Loss:     0.01 Acc:  1.00\n",
            "Epoch:  4 Step:  3000 Loss:     0.04 Acc:  0.98\n",
            "Epoch:  5 Step:  3600 Loss:     0.00 Acc:  1.00\n",
            "Epoch:  6 Step:  4200 Loss:     0.04 Acc:  0.99\n",
            "Epoch:  7 Step:  4800 Loss:     0.02 Acc:  0.98\n",
            "Epoch:  8 Step:  5400 Loss:     0.00 Acc:  1.00\n",
            "Epoch:  9 Step:  6000 Loss:     0.00 Acc:  1.00\n",
            "Epoch: 10 Step:  6600 Loss:     0.00 Acc:  1.00\n",
            "Epoch: 11 Step:  7200 Loss:     0.00 Acc:  1.00\n",
            "Epoch: 12 Step:  7800 Loss:     0.00 Acc:  1.00\n",
            "Epoch: 13 Step:  8400 Loss:     0.00 Acc:  1.00\n",
            "Epoch: 14 Step:  9000 Loss:     0.00 Acc:  1.00\n"
          ],
          "name": "stdout"
        }
      ]
    },
    {
      "metadata": {
        "id": "q6NaU6eN-itz",
        "colab_type": "code",
        "colab": {
          "base_uri": "https://localhost:8080/",
          "height": 35
        },
        "outputId": "201f62e5-a69f-4081-9ce0-4965a0db44c4"
      },
      "cell_type": "code",
      "source": [
        "# Get test accuracy\n",
        "batch_correct_cts = []\n",
        "for batch_data, batch_labels in batches(test_data, test_labels, 200):\n",
        "    test_dict = {mm.x : batch_data,\n",
        "                 mm.y : batch_labels}\n",
        "    correctness, curr_preds = mm.predict(test_dict)\n",
        "    batch_correct_cts.append(correctness.sum())\n",
        "\n",
        "print(sum(batch_correct_cts) / len(test_data))"
      ],
      "execution_count": 31,
      "outputs": [
        {
          "output_type": "stream",
          "text": [
            "0.9922\n"
          ],
          "name": "stdout"
        }
      ]
    },
    {
      "metadata": {
        "id": "-EN6Y8tN-ivP",
        "colab_type": "code",
        "colab": {
          "base_uri": "https://localhost:8080/",
          "height": 224
        },
        "outputId": "68c0a7dc-bd99-4454-dd7d-a6cb440a3a12"
      },
      "cell_type": "code",
      "source": [
        "def test_and_show_images(data, labels):\n",
        "    test_dict = {mm.x : data,\n",
        "                 mm.y : labels}\n",
        "    \n",
        "    correctness, curr_preds = mm.predict(test_dict)\n",
        "    \n",
        "    # setup axes\n",
        "    fig, axes = plt.subplots(nrows=(len(data) // 3) + 1, ncols=3, figsize=(9,len(data)*1.5))\n",
        "    axes = axes.flat\n",
        "    for d, lbl, c, p, ax in zip(data, labels, correctness, curr_preds, axes):\n",
        "        ax.imshow(np.squeeze(d), cmap='Greys_r')\n",
        "        ax.set_title(\"Predicted: {}\\nCorrect: {}\".format(p, bool(c)))\n",
        "        ax.axis('off')\n",
        "    for ax in axes: ax.set_visible(False)\n",
        "\n",
        "indices = [25, 125]\n",
        "test_and_show_images(test_data[indices], test_labels[indices])"
      ],
      "execution_count": 32,
      "outputs": [
        {
          "output_type": "display_data",
          "data": {
            "image/png": "[encoded data removed]",
            "text/plain": [
              "<matplotlib.figure.Figure at 0x7fa6b00f8400>"
            ]
          },
          "metadata": {
            "tags": []
          }
        }
      ]
    },
    {
      "metadata": {
        "id": "_PeGFA9n-ivV",
        "colab_type": "code",
        "colab": {}
      },
      "cell_type": "code",
      "source": [
        "# Get correct and incorrect images\n",
        "correctness = []\n",
        "for batch_data, batch_labels in batches(test_data, test_labels, 200):\n",
        "    test_dict = {mm.x : batch_data,\n",
        "                 mm.y : batch_labels}\n",
        "    curr_correctness, curr_preds = mm.predict(test_dict)\n",
        "    correctness.extend(curr_correctness)\n",
        "\n",
        "incorrect = np.where(np.logical_not(np.array(correctness, dtype=np.bool)))[0]"
      ],
      "execution_count": 0,
      "outputs": []
    },
    {
      "metadata": {
        "id": "8-wRnLq4-iva",
        "colab_type": "code",
        "colab": {
          "base_uri": "https://localhost:8080/",
          "height": 832
        },
        "outputId": "bc0f3ebf-d538-47b2-d8c8-897371564763"
      },
      "cell_type": "code",
      "source": [
        "# viewing some incorrect images\n",
        "indices = incorrect[:12]\n",
        "test_and_show_images(test_data[indices], test_labels[indices])"
      ],
      "execution_count": 34,
      "outputs": [
        {
          "output_type": "display_data",
          "data": {
            "image/png": "[encoded data removed]",
            "text/plain": [
              "<matplotlib.figure.Figure at 0x7fa69b6bb080>"
            ]
          },
          "metadata": {
            "tags": []
          }
        }
      ]
    },
    {
      "metadata": {
        "id": "O5hoh75oFyue",
        "colab_type": "text"
      },
      "cell_type": "markdown",
      "source": [
        "## CIFAR-10"
      ]
    },
    {
      "metadata": {
        "id": "ZQ2QL1MpN0Z4",
        "colab_type": "code",
        "colab": {
          "base_uri": "https://localhost:8080/",
          "height": 35
        },
        "outputId": "7cf26677-9ee3-4f4a-bfc3-8fcd19ae57e1"
      },
      "cell_type": "code",
      "source": [
        "from keras.datasets import cifar10\n",
        "\n",
        "(x_train, y_train), (x_test, y_test) = cifar10.load_data()"
      ],
      "execution_count": 35,
      "outputs": [
        {
          "output_type": "stream",
          "text": [
            "Using TensorFlow backend.\n"
          ],
          "name": "stderr"
        }
      ]
    },
    {
      "metadata": {
        "id": "W5GTHUHLGJkL",
        "colab_type": "code",
        "colab": {}
      },
      "cell_type": "code",
      "source": [
        "y_train = np.reshape(y_train, (y_train.shape[0],))\n",
        "y_test = np.reshape(y_test, (y_test.shape[0],))"
      ],
      "execution_count": 0,
      "outputs": []
    },
    {
      "metadata": {
        "id": "K2k9zbVHOEuR",
        "colab_type": "code",
        "colab": {
          "base_uri": "https://localhost:8080/",
          "height": 54
        },
        "outputId": "3b7700f6-2bf1-4dc0-fe5e-3ffcc9a79810"
      },
      "cell_type": "code",
      "source": [
        "print('Shape of training data:', x_train.shape)\n",
        "print('Shape of test data:', x_test.shape)"
      ],
      "execution_count": 37,
      "outputs": [
        {
          "output_type": "stream",
          "text": [
            "Shape of training data: (50000, 32, 32, 3)\n",
            "Shape of test data: (10000, 32, 32, 3)\n"
          ],
          "name": "stdout"
        }
      ]
    },
    {
      "metadata": {
        "id": "uE_1vFnXPFo8",
        "colab_type": "code",
        "colab": {
          "base_uri": "https://localhost:8080/",
          "height": 284
        },
        "outputId": "8b5aea63-db8a-4688-b78a-5f4c085597f5"
      },
      "cell_type": "code",
      "source": [
        "plt.imshow(x_train[11])\n",
        "print(y_train[11])"
      ],
      "execution_count": 39,
      "outputs": [
        {
          "output_type": "stream",
          "text": [
            "7\n"
          ],
          "name": "stdout"
        },
        {
          "output_type": "display_data",
          "data": {
            "image/png": "[encoded data removed]",
            "text/plain": [
              "<matplotlib.figure.Figure at 0x7fa69760c588>"
            ]
          },
          "metadata": {
            "tags": []
          }
        }
      ]
    },
    {
      "metadata": {
        "id": "riAf-S22F9pe",
        "colab_type": "code",
        "colab": {}
      },
      "cell_type": "code",
      "source": [
        "def not_cifar_net(images):\n",
        "  with tf.name_scope('cifar_model'):\n",
        "    conv_1 = conv_layer(images, 96, [3, 3])\n",
        "    conv_2 = conv_layer(conv_1, 96, [3,3], [1, 2, 2,1])\n",
        "    drop_1 = dropout_layer(conv_2, keep_prob=0.9)\n",
        "    \n",
        "    conv_3 = conv_layer(drop_1, 192, [3, 3])\n",
        "    conv_4 = conv_layer(conv_3, 192, [3, 3], [1, 2, 2, 1])\n",
        "    drop_2 = dropout_layer(conv_4, keep_prob=0.5)\n",
        "\n",
        "    flat = flatten(drop_2)\n",
        "\n",
        "    fc_1   = fully_connected_xavier_relu_layer(flat, 256)\n",
        "    fc_2   = fully_connected_layer(fc_1, 10, activation_fn=None)\n",
        "    \n",
        "    return fc_2"
      ],
      "execution_count": 0,
      "outputs": []
    },
    {
      "metadata": {
        "id": "eNmJ32vESUqs",
        "colab_type": "code",
        "colab": {}
      },
      "cell_type": "code",
      "source": [
        "class CIFAR_Model(object):\n",
        "    def __init__(s):  # non-standard, for abbreviation\n",
        "        graph = tf.Graph()\n",
        "        \n",
        "        with graph.as_default():\n",
        "            \n",
        "            with tf.name_scope('inputs'):\n",
        "                s.x = tf.placeholder(tf.uint8, shape=[None, 32, 32, 3], name=\"x\")\n",
        "                s.y = tf.placeholder(tf.int32, shape=[None])\n",
        "\n",
        "            with tf.name_scope('hyperparams'):\n",
        "                s.learning_rate = tf.placeholder(tf.float32, [], 'learning_rate')\n",
        "            \n",
        "            with tf.name_scope('preprocess'):\n",
        "                s.x_cast = tf.cast(s.x, tf.float32)\n",
        "                s.one_hot_labels = tf.one_hot(s.y, 10)\n",
        "\n",
        "            with tf.name_scope('model'):\n",
        "                s.out = not_cifar_net(s.x_cast)\n",
        "            \n",
        "            with tf.name_scope('loss'):\n",
        "                smce = tf.nn.softmax_cross_entropy_with_logits_v2\n",
        "                s.loss = tf.reduce_mean(smce(logits=s.out, labels=s.one_hot_labels))\n",
        "                \n",
        "            with tf.name_scope('global_step'):\n",
        "                global_step = tf.Variable(0, trainable=False, name='global_step')\n",
        "                s.inc_step = tf.assign_add(global_step, 1, name='inc_step')\n",
        "            \n",
        "            with tf.name_scope('train'):\n",
        "                decayed_rate = tf.train.exponential_decay(s.learning_rate,\n",
        "                                                          global_step,\n",
        "                                                          600,\n",
        "                                                          0.998,\n",
        "                                                          True)\n",
        "                momopt = tf.train.MomentumOptimizer\n",
        "                s.train = momopt(decayed_rate, 0.9).minimize(s.loss)\n",
        "\n",
        "            with tf.name_scope('prediction'):\n",
        "                s.softmax = tf.nn.softmax(s.out, name=\"softmax\")\n",
        "                s.prediction = tf.cast(tf.argmax(s.softmax, 1), tf.int32)\n",
        "                s.pred_correct = tf.equal(s.y, s.prediction)\n",
        "                s.pred_accuracy = tf.reduce_mean(tf.cast(s.pred_correct, tf.float32)) \n",
        "                \n",
        "            s.init = tf.global_variables_initializer()\n",
        "            \n",
        "        s.session = tf.Session(graph=graph)\n",
        "        s.session.run(s.init)\n",
        "    \n",
        "    def fit(s, train_dict):\n",
        "        tr_loss, step, tr_acc, _ = s.session.run([s.loss, s.inc_step, s.pred_accuracy, \n",
        "                                                  s.train], feed_dict=train_dict)\n",
        "        return tr_loss, step, tr_acc\n",
        "    \n",
        "    def predict(s, test_dict):\n",
        "        ct_correct, preds = s.session.run([s.pred_correct, s.prediction], \n",
        "                                          feed_dict=test_dict)\n",
        "        return ct_correct, preds"
      ],
      "execution_count": 0,
      "outputs": []
    },
    {
      "metadata": {
        "id": "lZx5zbWoXlaE",
        "colab_type": "code",
        "colab": {
          "base_uri": "https://localhost:8080/",
          "height": 384
        },
        "outputId": "275c4235-0cfc-4276-b1da-7373a4cba360"
      },
      "cell_type": "code",
      "source": [
        "cf = CIFAR_Model()\n",
        "for epoch in range(20):\n",
        "    for batch_data, batch_labels in batches(x_train, y_train, 100):\n",
        "        train_dict = {cf.x : batch_data, \n",
        "                      cf.y : batch_labels,\n",
        "                      cf.learning_rate : 0.001}\n",
        "        tr_loss, step, tr_acc = cf.fit(train_dict)\n",
        "    info_update = \"Epoch: {:2d} Step: {:5d} Loss: {:8.2f} Acc: {:5.2f}\"\n",
        "    print(info_update.format(epoch, step, tr_loss, tr_acc))"
      ],
      "execution_count": 43,
      "outputs": [
        {
          "output_type": "stream",
          "text": [
            "Epoch:  0 Step:   500 Loss:     1.77 Acc:  0.41\n",
            "Epoch:  1 Step:  1000 Loss:     1.46 Acc:  0.42\n",
            "Epoch:  2 Step:  1500 Loss:     1.44 Acc:  0.54\n",
            "Epoch:  3 Step:  2000 Loss:     1.30 Acc:  0.45\n",
            "Epoch:  4 Step:  2500 Loss:     0.98 Acc:  0.67\n",
            "Epoch:  5 Step:  3000 Loss:     1.18 Acc:  0.63\n",
            "Epoch:  6 Step:  3500 Loss:     1.02 Acc:  0.65\n",
            "Epoch:  7 Step:  4000 Loss:     0.57 Acc:  0.81\n",
            "Epoch:  8 Step:  4500 Loss:     0.69 Acc:  0.78\n",
            "Epoch:  9 Step:  5000 Loss:     0.72 Acc:  0.76\n",
            "Epoch: 10 Step:  5500 Loss:     0.70 Acc:  0.78\n",
            "Epoch: 11 Step:  6000 Loss:     0.74 Acc:  0.72\n",
            "Epoch: 12 Step:  6500 Loss:     0.53 Acc:  0.81\n",
            "Epoch: 13 Step:  7000 Loss:     0.73 Acc:  0.72\n",
            "Epoch: 14 Step:  7500 Loss:     0.76 Acc:  0.76\n",
            "Epoch: 15 Step:  8000 Loss:     0.51 Acc:  0.83\n",
            "Epoch: 16 Step:  8500 Loss:     0.47 Acc:  0.83\n",
            "Epoch: 17 Step:  9000 Loss:     0.54 Acc:  0.80\n",
            "Epoch: 18 Step:  9500 Loss:     0.29 Acc:  0.90\n",
            "Epoch: 19 Step: 10000 Loss:     0.30 Acc:  0.91\n"
          ],
          "name": "stdout"
        }
      ]
    },
    {
      "metadata": {
        "id": "r3wKaTr-XmAK",
        "colab_type": "code",
        "colab": {
          "base_uri": "https://localhost:8080/",
          "height": 35
        },
        "outputId": "f0c5b305-aba1-45a4-f6d6-0fd2fe3c1093"
      },
      "cell_type": "code",
      "source": [
        "# Get test accuracy\n",
        "batch_correct_cts = []\n",
        "for batch_data, batch_labels in batches(x_test, y_test, 200):\n",
        "    test_dict = {cf.x : batch_data,\n",
        "                 cf.y : batch_labels}\n",
        "    correctness, curr_preds = cf.predict(test_dict)\n",
        "    batch_correct_cts.append(correctness.sum())\n",
        "\n",
        "print(sum(batch_correct_cts) / len(y_test))"
      ],
      "execution_count": 44,
      "outputs": [
        {
          "output_type": "stream",
          "text": [
            "0.7266\n"
          ],
          "name": "stdout"
        }
      ]
    },
    {
      "metadata": {
        "id": "iCrT1pUvhvND",
        "colab_type": "code",
        "colab": {}
      },
      "cell_type": "code",
      "source": [
        ""
      ],
      "execution_count": 0,
      "outputs": []
    }
  ]
}